{
 "cells": [
  {
   "cell_type": "code",
   "execution_count": null,
   "id": "db8360ce-0f5b-4b0f-8a83-a1153bec46d4",
   "metadata": {},
   "outputs": [],
   "source": []
  },
  {
   "cell_type": "markdown",
   "id": "f3190a14-968c-4de1-ad66-be30b2a4b91e",
   "metadata": {},
   "source": [
    "# Data Science Tools and Ecosystem"
   ]
  },
  {
   "cell_type": "markdown",
   "id": "9611d47c-7693-4739-87ee-eb8b914dac09",
   "metadata": {},
   "source": [
    "( In this notebook, Data Science Tools and Ecosystem are summarized )"
   ]
  },
  {
   "cell_type": "markdown",
   "id": "ffaf7e62-2e8b-4f18-9e35-a3bd543de922",
   "metadata": {},
   "source": [
    "Some of the popular languages that Data Scientists use are:\n",
    "1. Python\n",
    "2. C++\n",
    "3. Java"
   ]
  },
  {
   "cell_type": "markdown",
   "id": "29458225-0836-4036-9520-85c7a9306543",
   "metadata": {},
   "source": [
    "Some of the commonly used libraries used by Data Scientists include:\n",
    "* Caret\n",
    "* RandomForest\n",
    "* Sgboost\n",
    "* Data.table"
   ]
  },
  {
   "cell_type": "markdown",
   "id": "c174d4ca-a704-4964-a4c9-60cef0c31e75",
   "metadata": {},
   "source": [
    "# Data Science Tools\n",
    "| library      | Purpose   |\n",
    "|--------------|-----------|\n",
    "| pandas       | Data manipulation|\n",
    "| python lybrary | machine learning |\n",
    "|Tableau        | Data visualisation |"
   ]
  },
  {
   "cell_type": "code",
   "execution_count": 13,
   "id": "4c85c2e2-43db-40d6-9494-f72769a03838",
   "metadata": {},
   "outputs": [
    {
     "data": {
      "text/plain": [
       "17"
      ]
     },
     "execution_count": 13,
     "metadata": {},
     "output_type": "execute_result"
    }
   ],
   "source": [
    "#This a simple arithmetic expression to mutiply then add integers\n",
    "(3*4)+5"
   ]
  },
  {
   "cell_type": "code",
   "execution_count": 14,
   "id": "ca1b0a3a-4d43-4a9b-b63c-51e67dad1cb9",
   "metadata": {},
   "outputs": [
    {
     "data": {
      "text/plain": [
       "3.3333333333333335"
      ]
     },
     "execution_count": 14,
     "metadata": {},
     "output_type": "execute_result"
    }
   ],
   "source": [
    "#  This will convert 200 minutes to hours by diving by 60\n",
    "200/60"
   ]
  },
  {
   "cell_type": "markdown",
   "id": "e42fa9db-96e4-4b54-afee-e215d949269a",
   "metadata": {},
   "source": [
    "# Some of the key takeaways from the course\n",
    "**objectives**:\n",
    "* we covered different tools that are used in data science\n",
    "* were introduced to popular languages used\n",
    "* we covered git hub, jupyter notebook, and R studio"
   ]
  },
  {
   "cell_type": "markdown",
   "id": "5ed24de5-cf26-4e56-bc6b-7870326a8d4d",
   "metadata": {},
   "source": [
    "## Author\n",
    "Muzammil Anwar\n"
   ]
  },
  {
   "cell_type": "code",
   "execution_count": null,
   "id": "29620b17-e41f-4648-a0f8-6e1daa2cb0d6",
   "metadata": {},
   "outputs": [],
   "source": []
  },
  {
   "cell_type": "code",
   "execution_count": null,
   "id": "3639af7f-6e3c-4fc7-b9e0-53344409fbdb",
   "metadata": {},
   "outputs": [],
   "source": []
  }
 ],
 "metadata": {
  "kernelspec": {
   "display_name": "Python 3 (ipykernel)",
   "language": "python",
   "name": "python3"
  },
  "language_info": {
   "codemirror_mode": {
    "name": "ipython",
    "version": 3
   },
   "file_extension": ".py",
   "mimetype": "text/x-python",
   "name": "python",
   "nbconvert_exporter": "python",
   "pygments_lexer": "ipython3",
   "version": "3.13.5"
  }
 },
 "nbformat": 4,
 "nbformat_minor": 5
}
